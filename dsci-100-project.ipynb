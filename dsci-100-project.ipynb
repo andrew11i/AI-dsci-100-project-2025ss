{
 "cells": [
  {
   "cell_type": "markdown",
   "id": "f48b996c-de08-4cf7-8feb-de48bc642aa3",
   "metadata": {},
   "source": [
    "# DSCI 100 Individual Project\n",
    "\n",
    "Andrew Ip"
   ]
  },
  {
   "cell_type": "code",
   "execution_count": null,
   "id": "4d16329c-9390-45d5-8eef-80780f114002",
   "metadata": {},
   "outputs": [],
   "source": []
  },
  {
   "cell_type": "code",
   "execution_count": null,
   "id": "4dea4359-4871-41c2-a6aa-45d77fa359cf",
   "metadata": {},
   "outputs": [],
   "source": []
  }
 ],
 "metadata": {
  "kernelspec": {
   "display_name": "R",
   "language": "R",
   "name": "ir"
  },
  "language_info": {
   "codemirror_mode": "r",
   "file_extension": ".r",
   "mimetype": "text/x-r-source",
   "name": "R",
   "pygments_lexer": "r",
   "version": "4.3.3"
  }
 },
 "nbformat": 4,
 "nbformat_minor": 5
}
