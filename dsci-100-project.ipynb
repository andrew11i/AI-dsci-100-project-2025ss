{
 "cells": [
  {
   "cell_type": "markdown",
   "id": "f48b996c-de08-4cf7-8feb-de48bc642aa3",
   "metadata": {},
   "source": [
    "# DSCI 100 Individual Project"
   ]
  },
  {
   "cell_type": "markdown",
   "id": "b6436df7-7f87-4a37-8473-8916454a7e9e",
   "metadata": {},
   "source": [
    "**Introduction**\n",
    "\n"
   ]
  },
  {
   "cell_type": "code",
   "execution_count": 12,
   "id": "cb523f7a-d717-42fc-86d7-d84ff400324c",
   "metadata": {},
   "outputs": [],
   "source": [
    "library(tidyverse)"
   ]
  },
  {
   "cell_type": "code",
   "execution_count": null,
   "id": "5a0686f0-f05c-40ad-beab-7a3a55f535fc",
   "metadata": {},
   "outputs": [],
   "source": []
  }
 ],
 "metadata": {
  "kernelspec": {
   "display_name": "R",
   "language": "R",
   "name": "ir"
  },
  "language_info": {
   "codemirror_mode": "r",
   "file_extension": ".r",
   "mimetype": "text/x-r-source",
   "name": "R",
   "pygments_lexer": "r",
   "version": "4.3.3"
  }
 },
 "nbformat": 4,
 "nbformat_minor": 5
}
